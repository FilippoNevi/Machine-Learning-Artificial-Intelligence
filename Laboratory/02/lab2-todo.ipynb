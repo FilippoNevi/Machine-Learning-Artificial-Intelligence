{
 "cells": [
  {
   "cell_type": "code",
   "execution_count": null,
   "metadata": {
    "colab": {},
    "colab_type": "code",
    "id": "xltdSthIJTcE"
   },
   "outputs": [],
   "source": [
    "!wget https://www.dropbox.com/s/hofq3jtwpps009l/data.npy\n",
    "!wget https://www.dropbox.com/s/9c6px3tcko57yyy/labels.npy"
   ]
  },
  {
   "cell_type": "code",
   "execution_count": 5,
   "metadata": {
    "colab": {},
    "colab_type": "code",
    "id": "Tp2vB-WzJt1e"
   },
   "outputs": [
    {
     "name": "stdout",
     "output_type": "stream",
     "text": [
      "[1 1 1 1 1 1 1 1 1 1 1 1 1 1 1 1 1 1 1 1 1 1 1 1 1 1 1 1 1 1 1 1 1 1 1 1 1\n",
      " 1 1 1 1 1 1 1 1 1 1 1 1 1 2 2 2 2 2 2 2 2 2 2 2 2 2 2 2 2 2 2 2 2 2 2 2 2\n",
      " 2 2 2 2 2 2 2 2 2 2 2 2 2 2 2 2 2 2 2 2 2 2 2 2 2 2 3 3 3 3 3 3 3 3 3 3 3\n",
      " 3 3 3 3 3 3 3 3 3 3 3 3 3 3 3 3 3 3 3 3 3 3 3 3 3 3 3 3 3 3 3 3 3 3 3 3 3\n",
      " 3 3]\n"
     ]
    }
   ],
   "source": [
    "# ESERCIZIO 1 - Bayes decision theory\n",
    "\n",
    "# 1. Caricare in memoria i file data.npy e labels.npy \n",
    "# data = np.load('data.npy')\n",
    "# labels = np.load('labels.npy')\n",
    "# Data rappresenta una matrice 150 (n.oggetti) x 2 (dimensione features vector)\n",
    "\n",
    "# 2. Estrarre tre diverse sotto-matrici:\n",
    "#   - Gli oggetti delle classe 1: sono le colonne di data per cui labels = 1\n",
    "#   - Gli oggetti delle classe 2 (labels = 2)\n",
    "#   - Gli oggetti delle classe 3  (label = 3)\n",
    "\n",
    "# 3. Fare lo scatter dei dati assegnando ad ogni sotto-matrice un colore diverso\n",
    "\n",
    "# 4. Per ognuna delle classi, mantenere 40 casi come training set, e 10 casi come testing set\n",
    "\n",
    "# 5. Calcolare media e matrice di covarianza per ognuno dei training set delle 3 classi \n",
    "#    ATTENZIONE: la media di ogni classe deve essere un vettore con 2 elementi, la matrice di covarianza una 2x2\n",
    "#    Suggerimento: utilizzare numpy.cov per la matrice di covarianza (controllare come si utilizza nella documentazione online)\n",
    "\n",
    "\n",
    "# 6.  Considerando P densità normale multivariata e utilizzando le probabilità estratte dal training set, applicare la regola di decisione di Bayes ad ogni punto del testing set, assumendo le prior equivalenti ed uguali a 1/3\n",
    "#     !! documentazione disponibile al link riportato alla slide 8\n",
    "\n",
    "# 7. Calcolare il numero di punti classificati correttamente rispetto al totale (accuratezza)\n",
    "\n",
    "import numpy as np\n",
    "\n",
    "# 1\n",
    "data = np.load('dataset/data.npy')\n",
    "labels = np.load('dataset/labels.npy')\n",
    "\n",
    "# 2\n",
    "data1 = data[labels == 1, :] #--> select the rows that have label = 1 and select all the columns\n",
    "data2 = data[labels == 2, :]\n",
    "data3 = data[labels == 3, :]\n",
    "\n",
    "# 3\n",
    "from matplotlib import pyplot as plt\n",
    "\n",
    "plt.scatter()\n",
    "\n",
    "# 4\n",
    "train_set1 = data1[:40]\n",
    "train_set2 = data2[:40]\n",
    "train_set3 = data3[:40]\n",
    "\n",
    "# 5"
   ]
  },
  {
   "cell_type": "code",
   "execution_count": null,
   "metadata": {
    "colab": {},
    "colab_type": "code",
    "id": "Rx41ZLyaKSKV"
   },
   "outputs": [],
   "source": [
    "# Esercizio 2 - Bayes decision theory\n",
    "\n",
    "# Considerare i dati dell'esercizio precendente!\n",
    "# Rieseguire i punti 5, 6 variando P(w1),P(w2),P(w3) come nei seguenti 2 casi:\n",
    "#   a) P(w1) = 0.5 ,P(w2) = 0.4 ,P(w3) = 0.1\n",
    "#   b) P(w1) = 0.25 ,P(w2) = 0.5 ,P(w3) = 0.25\n",
    "#\n",
    "# Commentare le nuove accuratezze ottenute alla luce dei cambiamenti fatti in a) e b).\n",
    "\n",
    "# TODO\n"
   ]
  },
  {
   "cell_type": "code",
   "execution_count": null,
   "metadata": {
    "colab": {},
    "colab_type": "code",
    "id": "YqBfvezhfFZG"
   },
   "outputs": [],
   "source": [
    "# ESERCIZIO 3 - Funzioni discriminanti\n",
    "\n",
    "# Considerare i dati del primo esercizio\n",
    "\n",
    "# 1. Fare un imshow delle matrici di covarianza e capire in quale dei 3 casi ci troviamo (utilizzare argomenti vmin=-0.5 e vmax=0.5 per impostare un range di colori fisso)\n",
    "# 2. Calcolare la funzione g(x) e classificare i punti del testing set utilizzando i parametri addestrati sul training set (mu, Sigma). (utilizzare i prior dell'esercizio 1)\n",
    "# ATTENZIONE ALLE DIMENSIONI DELLE MATRICI!!\n",
    "# 3. Verificare le performance in termini di accuratezza\n",
    "\n",
    "\n",
    "# TODO"
   ]
  },
  {
   "cell_type": "code",
   "execution_count": null,
   "metadata": {
    "colab": {},
    "colab_type": "code",
    "id": "GSufpqTBgmfl"
   },
   "outputs": [],
   "source": [
    "# ESERCIZIO 4 - Funzioni discriminanti\n",
    "\n",
    "# Considerare i dati del primo esercizio\n",
    "\n",
    "# 1. Impostare le matrici di covarianza uguali alla matrice identità e sigma^2 = 1\n",
    "# 2. Calcolare la funzione g(x) e classificare i punti del testing set utilizzando i parametri addestrati sul training set (mu, Sigma). (utilizzare i prior dell'esercizio 1)\n",
    "# ATTENZIONE ALLE DIMENSIONI DELLE MATRICI!!\n",
    "# 3. Verificare le performance in termini di accuratezza, sai spiegare il motivo nel cambio di performance?\n",
    "# 4. Calcolare i parametri w e x0 per i confini di decisione tra la classi 1 e 2, 2 e 3, 1 e 3\n",
    "# 5. Fare uno scatter dei dati delle 3 classi e plottare anche i confini di decisione \n",
    "\n",
    "\n",
    "# TODO\n"
   ]
  },
  {
   "cell_type": "code",
   "execution_count": null,
   "metadata": {
    "colab": {},
    "colab_type": "code",
    "id": "RXAJfTEliUZ3"
   },
   "outputs": [],
   "source": [
    "# ESERCIZIO 5 - Funzioni discriminanti\n",
    "\n",
    "# Considerare i dati del primo esercizio\n",
    "\n",
    "# 1. Impostare le matrici di covarianza uguali alla matrice di covarianza per la classe 1 \n",
    "# 2. Calcolare la funzione g(x) e classificare i punti del testing set utilizzando i parametri addestrati sul training set (mu, Sigma). (utilizzare i prior dell'esercizio 1)\n",
    "# 3. Verificare le performance in termini di accuratezza\n",
    "# 4. Calcolare i parametri w e x0 per i confini di decisione tra la classi 1 e 2, 2 e 3, 1 e 3\n",
    "# 5. Fare uno scatter dei dati delle 3 classi e plottare anche i confini di decisione \n",
    "\n",
    "# Dove sbaglia maggiormente il nostro classificatore?\n",
    "\n",
    "\n",
    "# TODO"
   ]
  }
 ],
 "metadata": {
  "colab": {
   "authorship_tag": "ABX9TyNIXYCp55AmfugOsLIAM/Km",
   "collapsed_sections": [],
   "name": "lab2-todo.ipynb",
   "provenance": []
  },
  "kernelspec": {
   "display_name": "Python 3",
   "language": "python",
   "name": "python3"
  },
  "language_info": {
   "codemirror_mode": {
    "name": "ipython",
    "version": 3
   },
   "file_extension": ".py",
   "mimetype": "text/x-python",
   "name": "python",
   "nbconvert_exporter": "python",
   "pygments_lexer": "ipython3",
   "version": "3.8.5"
  }
 },
 "nbformat": 4,
 "nbformat_minor": 4
}
