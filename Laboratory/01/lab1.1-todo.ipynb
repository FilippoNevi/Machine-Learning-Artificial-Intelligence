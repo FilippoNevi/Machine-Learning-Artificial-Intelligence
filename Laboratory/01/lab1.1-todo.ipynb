{
 "cells": [
  {
   "cell_type": "markdown",
   "metadata": {},
   "source": [
    "# Vectors and matrices"
   ]
  },
  {
   "cell_type": "code",
   "execution_count": 1,
   "metadata": {
    "ExecuteTime": {
     "end_time": "2021-03-09T07:20:35.937928Z",
     "start_time": "2021-03-09T07:20:35.622347Z"
    },
    "colab": {},
    "colab_type": "code",
    "id": "YkPUSnbANFxT"
   },
   "outputs": [],
   "source": [
    "# 1A\n",
    "\n",
    "# Construct a 10x10 matrix A of ones\n",
    "# (https://docs.scipy.org/doc/numpy/reference/generated/numpy.ones.html)\n",
    "# Substitute the value in position (8,8) with 4\n",
    "# Extract and print out the 3x3 submatrix B corresponding to the last three rows and columns of the matrix (lower right)\n",
    "# Create and print out B^2 (B@B)\n",
    "# Create and print out B^2 elementwise \n",
    "\n",
    "import numpy as np\n",
    "# TODO"
   ]
  },
  {
   "cell_type": "code",
   "execution_count": 2,
   "metadata": {
    "ExecuteTime": {
     "end_time": "2021-03-09T07:20:35.945913Z",
     "start_time": "2021-03-09T07:20:35.941925Z"
    },
    "colab": {},
    "colab_type": "code",
    "id": "ASqcNzkRNgwH"
   },
   "outputs": [],
   "source": [
    "# 1B\n",
    "\n",
    "# Initialize two vectors v1 and v2 with values [0 0] and [1 1].\n",
    "# Assuming the values of the vectors represent carthesian coordinates (x,y) calculate the Euclidean distance between\n",
    "# the two points.\n",
    "\n",
    "# TODO"
   ]
  },
  {
   "cell_type": "markdown",
   "metadata": {},
   "source": [
    "# Conditional instructions and loops"
   ]
  },
  {
   "cell_type": "code",
   "execution_count": 3,
   "metadata": {
    "ExecuteTime": {
     "end_time": "2021-03-09T07:20:35.969884Z",
     "start_time": "2021-03-09T07:20:35.949912Z"
    },
    "colab": {},
    "colab_type": "code",
    "id": "tCmLueWdNiVP"
   },
   "outputs": [],
   "source": [
    "# 2A\n",
    "\n",
    "# Matrices U and V are given. Each row of U and V corresponds to a point in 2D Euclidean space. \n",
    "# Construct a distance matrix D for which an element D(i,j) \n",
    "# contains the Euclidean distance between U(i,:) and V(j,:)\n",
    "\n",
    "U = np.array([[0, 0],[0, 1],[1, 0]])\n",
    "V = np.array([[-1, -1],[1, 1],[4, 4]])\n",
    "# TODO\n"
   ]
  },
  {
   "cell_type": "code",
   "execution_count": 4,
   "metadata": {
    "ExecuteTime": {
     "end_time": "2021-03-09T07:20:35.993853Z",
     "start_time": "2021-03-09T07:20:35.973878Z"
    },
    "colab": {},
    "colab_type": "code",
    "id": "HtRPKzmONkRH"
   },
   "outputs": [],
   "source": [
    "# 2B\n",
    "\n",
    "# Generate a random number with the command np.random.normal() (sampled from a standard normal distribution). \n",
    "# https://docs.scipy.org/doc/numpy/reference/generated/numpy.random.normal.html\n",
    "# Assign to a variable y the value 1 if that number is between -1 and 1 (mean +- standard deviation), 0 otherwise.\n",
    "# (In python, intersection(AND) is done with the keyword \"and\". To do \"and\" between two numpy vectors: np.bitwise_and)\n",
    "# If I repeat the process 10000 times, how many times does the random number fall in the interval [-1 1]?\n",
    "# Do the exercise using a loop, and then try to solve the problem without one.\n",
    "\n",
    "# TODO\n"
   ]
  },
  {
   "cell_type": "markdown",
   "metadata": {},
   "source": [
    "# Image visualization"
   ]
  },
  {
   "cell_type": "code",
   "execution_count": 5,
   "metadata": {
    "ExecuteTime": {
     "end_time": "2021-03-09T07:20:36.712890Z",
     "start_time": "2021-03-09T07:20:35.997844Z"
    },
    "colab": {},
    "colab_type": "code",
    "id": "ZsgPF_7_NmFf"
   },
   "outputs": [],
   "source": [
    "# 3A\n",
    "\n",
    "# Load the image \"seattle.png\" and assig it to the variable I.\n",
    "# https://pillow.readthedocs.io/en/stable/reference/Image.html\n",
    "# Extract the numpy array from the loaded image and display it with the imshow command. Print out its shape.\n",
    "# Print out the minimum and maxium values contained in the matrix.\n",
    "# https://stackoverflow.com/questions/384759/how-to-convert-a-pil-image-into-a-numpy-array/37675266\n",
    "# Diplay the loaded image\n",
    "# https://matplotlib.org/api/_as_gen/matplotlib.pyplot.imshow.html\n",
    "\n",
    "# TODO\n",
    "from PIL import Image\n",
    "import matplotlib.pyplot as plt"
   ]
  },
  {
   "cell_type": "code",
   "execution_count": 6,
   "metadata": {
    "ExecuteTime": {
     "end_time": "2021-03-09T07:20:36.724876Z",
     "start_time": "2021-03-09T07:20:36.716888Z"
    },
    "colab": {},
    "colab_type": "code",
    "id": "ga5wH-3kN0An"
   },
   "outputs": [],
   "source": [
    "# 3B\n",
    "\n",
    "# Using the numpy array from above and the information you printed, try to understand what each element in \n",
    "# the matrix represents. Use that information to perform an \"invertion filter\" on the image, \n",
    "# meaning that you \"switch\" the black and white colors.\n",
    "# Print out the means of the normal image and the inverted image. What do you notice?\n",
    "\n",
    "# TODO"
   ]
  }
 ],
 "metadata": {
  "colab": {
   "authorship_tag": "ABX9TyN17Ywq87Vbl1M2k0grgsbc",
   "name": "lab1.1-todo.ipynb",
   "provenance": []
  },
  "kernelspec": {
   "display_name": "Python 3",
   "language": "python",
   "name": "python3"
  },
  "language_info": {
   "codemirror_mode": {
    "name": "ipython",
    "version": 3
   },
   "file_extension": ".py",
   "mimetype": "text/x-python",
   "name": "python",
   "nbconvert_exporter": "python",
   "pygments_lexer": "ipython3",
   "version": "3.8.3"
  },
  "toc": {
   "base_numbering": 1,
   "nav_menu": {},
   "number_sections": true,
   "sideBar": true,
   "skip_h1_title": false,
   "title_cell": "Table of Contents",
   "title_sidebar": "Contents",
   "toc_cell": false,
   "toc_position": {},
   "toc_section_display": true,
   "toc_window_display": false
  },
  "varInspector": {
   "cols": {
    "lenName": 16,
    "lenType": 16,
    "lenVar": 40
   },
   "kernels_config": {
    "python": {
     "delete_cmd_postfix": "",
     "delete_cmd_prefix": "del ",
     "library": "var_list.py",
     "varRefreshCmd": "print(var_dic_list())"
    },
    "r": {
     "delete_cmd_postfix": ") ",
     "delete_cmd_prefix": "rm(",
     "library": "var_list.r",
     "varRefreshCmd": "cat(var_dic_list()) "
    }
   },
   "types_to_exclude": [
    "module",
    "function",
    "builtin_function_or_method",
    "instance",
    "_Feature"
   ],
   "window_display": false
  }
 },
 "nbformat": 4,
 "nbformat_minor": 1
}
