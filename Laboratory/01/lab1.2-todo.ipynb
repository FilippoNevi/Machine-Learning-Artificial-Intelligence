{
 "cells": [
  {
   "cell_type": "code",
   "execution_count": 1,
   "metadata": {
    "ExecuteTime": {
     "end_time": "2021-03-09T07:22:51.668368Z",
     "start_time": "2021-03-09T07:22:50.355154Z"
    },
    "colab": {},
    "colab_type": "code",
    "id": "cJtkIgHLQHHw"
   },
   "outputs": [],
   "source": [
    "# Exercise 1\n",
    "\n",
    "# We define a value A = 4. \n",
    "# We also define two normal distributions w1, w2. \n",
    "# For each case:\n",
    "# - plot the distributions\n",
    "# - Check in which of the two distributions we have a higher probability of a sample being equal to A (drawing A)\n",
    "# Hint : PDF\n",
    "# The cases are:\n",
    "# a) w1: [mean = 3, sigma = 1.5], w2: [mean = 7, sigma = 1]. \n",
    "# b) w1: [mean = 3, sigma = 1], w2: [mean = 5, sigma = 2]\n",
    "# c) w1: [mean = 4, sigma = 1], w2: [mean = 4, sigma = 0.5]\n",
    "\n",
    "from scipy.stats import norm\n",
    "#https://docs.scipy.org/doc/scipy/reference/generated/scipy.stats.norm.html\n",
    "\n",
    "# TODO\n"
   ]
  },
  {
   "cell_type": "code",
   "execution_count": 2,
   "metadata": {
    "ExecuteTime": {
     "end_time": "2021-03-09T07:22:53.613801Z",
     "start_time": "2021-03-09T07:22:51.672395Z"
    },
    "colab": {},
    "colab_type": "code",
    "id": "n5650WVTQVbv"
   },
   "outputs": [],
   "source": [
    "# Exercise 2 \n",
    "\n",
    "# Let two sets A and B be defined.\n",
    "# Find the corresponding centroids (x,y), then calculate the Euclidean distance between them and each proposed x.\n",
    "# Produce the scatter plot of the points of A and B, the centroids (with a different marker than the points) \n",
    "# and the point x for the various cases. Which of the 2 classes will x belong to?\n",
    "# https://matplotlib.org/stable/api/_as_gen/matplotlib.pyplot.scatter.html\n",
    "# a) x = [6.5, 3]\n",
    "# b) x = [4.5, 3.5]\n",
    "# c) x = [5.5, 3.25]\n",
    "\n",
    "from sklearn import datasets\n",
    "from scipy.spatial import distance\n",
    "\n",
    "iris = datasets.load_iris()\n",
    "X = iris.data[:, :2]  # we only take the first two features.\n",
    "y = iris.target\n",
    "\n",
    "A = X[y == 0]\n",
    "B = X[y == 1]\n",
    "\n",
    "# TODO"
   ]
  }
 ],
 "metadata": {
  "colab": {
   "authorship_tag": "ABX9TyMHdwCbNE87unA/dThahqlM",
   "name": "lab1.2-todo.ipynb",
   "provenance": []
  },
  "kernelspec": {
   "display_name": "Python 3",
   "language": "python",
   "name": "python3"
  },
  "language_info": {
   "codemirror_mode": {
    "name": "ipython",
    "version": 3
   },
   "file_extension": ".py",
   "mimetype": "text/x-python",
   "name": "python",
   "nbconvert_exporter": "python",
   "pygments_lexer": "ipython3",
   "version": "3.8.3"
  },
  "toc": {
   "base_numbering": 1,
   "nav_menu": {},
   "number_sections": true,
   "sideBar": true,
   "skip_h1_title": false,
   "title_cell": "Table of Contents",
   "title_sidebar": "Contents",
   "toc_cell": false,
   "toc_position": {},
   "toc_section_display": true,
   "toc_window_display": false
  },
  "varInspector": {
   "cols": {
    "lenName": 16,
    "lenType": 16,
    "lenVar": 40
   },
   "kernels_config": {
    "python": {
     "delete_cmd_postfix": "",
     "delete_cmd_prefix": "del ",
     "library": "var_list.py",
     "varRefreshCmd": "print(var_dic_list())"
    },
    "r": {
     "delete_cmd_postfix": ") ",
     "delete_cmd_prefix": "rm(",
     "library": "var_list.r",
     "varRefreshCmd": "cat(var_dic_list()) "
    }
   },
   "types_to_exclude": [
    "module",
    "function",
    "builtin_function_or_method",
    "instance",
    "_Feature"
   ],
   "window_display": false
  }
 },
 "nbformat": 4,
 "nbformat_minor": 1
}
