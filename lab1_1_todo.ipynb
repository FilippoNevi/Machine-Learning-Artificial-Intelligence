{
  "nbformat": 4,
  "nbformat_minor": 0,
  "metadata": {
    "colab": {
      "name": "lab1.1-todo.ipynb",
      "provenance": [],
      "collapsed_sections": [],
      "include_colab_link": true
    },
    "kernelspec": {
      "display_name": "Python 3",
      "language": "python",
      "name": "python3"
    },
    "language_info": {
      "codemirror_mode": {
        "name": "ipython",
        "version": 3
      },
      "file_extension": ".py",
      "mimetype": "text/x-python",
      "name": "python",
      "nbconvert_exporter": "python",
      "pygments_lexer": "ipython3",
      "version": "3.8.3"
    },
    "toc": {
      "base_numbering": 1,
      "nav_menu": {},
      "number_sections": true,
      "sideBar": true,
      "skip_h1_title": false,
      "title_cell": "Table of Contents",
      "title_sidebar": "Contents",
      "toc_cell": false,
      "toc_position": {},
      "toc_section_display": true,
      "toc_window_display": false
    },
    "varInspector": {
      "cols": {
        "lenName": 16,
        "lenType": 16,
        "lenVar": 40
      },
      "kernels_config": {
        "python": {
          "delete_cmd_postfix": "",
          "delete_cmd_prefix": "del ",
          "library": "var_list.py",
          "varRefreshCmd": "print(var_dic_list())"
        },
        "r": {
          "delete_cmd_postfix": ") ",
          "delete_cmd_prefix": "rm(",
          "library": "var_list.r",
          "varRefreshCmd": "cat(var_dic_list()) "
        }
      },
      "types_to_exclude": [
        "module",
        "function",
        "builtin_function_or_method",
        "instance",
        "_Feature"
      ],
      "window_display": false
    }
  },
  "cells": [
    {
      "cell_type": "markdown",
      "metadata": {
        "id": "view-in-github",
        "colab_type": "text"
      },
      "source": [
        "<a href=\"https://colab.research.google.com/github/FilippoNevi/Machine-Learning-Artificial-Intelligence/blob/main/lab1_1_todo.ipynb\" target=\"_parent\"><img src=\"https://colab.research.google.com/assets/colab-badge.svg\" alt=\"Open In Colab\"/></a>"
      ]
    },
    {
      "cell_type": "markdown",
      "metadata": {
        "id": "AAV6gLELfr2L"
      },
      "source": [
        "# Vectors and matrices"
      ]
    },
    {
      "cell_type": "code",
      "metadata": {
        "ExecuteTime": {
          "end_time": "2021-03-09T10:11:30.847263Z",
          "start_time": "2021-03-09T10:11:30.842277Z"
        },
        "id": "YkPUSnbANFxT"
      },
      "source": [
        "# 1A\n",
        "\n",
        "# Construct a 10x10 matrix A of ones\n",
        "# (https://docs.scipy.org/doc/numpy/reference/generated/numpy.ones.html)\n",
        "# Substitute the value in position (8,8) with 4\n",
        "# Extract and print out the 3x3 submatrix B corresponding to the last three rows and columns of the matrix (lower right)\n",
        "# Create and print out B^2 (B@B)\n",
        "# Create and print out B^2 elementwise \n",
        "\n",
        "import numpy as np\n",
        "# TODO"
      ],
      "execution_count": null,
      "outputs": []
    },
    {
      "cell_type": "code",
      "source": [
        "# 1B\n",
        "\n",
        "# Construct a 3x2 matrix M of random numbers\n",
        "# https://numpy.org/doc/stable/reference/random/generated/numpy.random.rand.html\n",
        "# Reduce the matrix using the sum and mean operations over its rows and columns\n",
        "# Finally, provide the total sum and mean of the matrix\n",
        "# (Naturally, results will vary based on the random numbers)\n",
        "\n",
        "#TODO\n",
        "print(M)\n",
        "print(f\"Total sum: {total_sum}, Sum over rows: {sum_over_rows}, Sum over cols: {sum_over_cols}\")\n",
        "print(f\"Total mean: {total_mean}, Mean over rows: {mean_over_rows}, Mean over cols: {mean_over_cols}\")"
      ],
      "metadata": {
        "id": "4mpWHfCY4s01"
      },
      "execution_count": null,
      "outputs": []
    },
    {
      "cell_type": "code",
      "metadata": {
        "ExecuteTime": {
          "end_time": "2021-03-09T07:20:35.945913Z",
          "start_time": "2021-03-09T07:20:35.941925Z"
        },
        "id": "ASqcNzkRNgwH"
      },
      "source": [
        "# 1C\n",
        "\n",
        "# Initialize two vectors v1 and v2 with values [0 0] and [1 1].\n",
        "# Assuming the values of the vectors represent carthesian coordinates (x,y) calculate the Euclidean distance between\n",
        "# the two points.\n",
        "\n",
        "# TODO"
      ],
      "execution_count": null,
      "outputs": []
    },
    {
      "cell_type": "markdown",
      "metadata": {
        "id": "UKRpMseGfr2P"
      },
      "source": [
        "# Conditional instructions and loops"
      ]
    },
    {
      "cell_type": "code",
      "metadata": {
        "ExecuteTime": {
          "end_time": "2021-03-09T07:20:35.969884Z",
          "start_time": "2021-03-09T07:20:35.949912Z"
        },
        "id": "tCmLueWdNiVP"
      },
      "source": [
        "# 2A\n",
        "\n",
        "# Matrices U and V are given. Each row of U and V corresponds to a point in 2D Euclidean space. \n",
        "# Construct a distance matrix D for which an element D(i,j) \n",
        "# contains the Euclidean distance between U(i,:) and V(j,:)\n",
        "\n",
        "U = np.array([[0, 0],[0, 1],[1, 0]])\n",
        "V = np.array([[-1, -1],[1, 1],[4, 4]])\n",
        "# TODO\n"
      ],
      "execution_count": null,
      "outputs": []
    },
    {
      "cell_type": "code",
      "metadata": {
        "ExecuteTime": {
          "end_time": "2021-03-09T07:20:35.993853Z",
          "start_time": "2021-03-09T07:20:35.973878Z"
        },
        "id": "HtRPKzmONkRH"
      },
      "source": [
        "# 2B\n",
        "\n",
        "# Generate a random number with the command np.random.normal() (sampled from a standard normal distribution). \n",
        "# https://docs.scipy.org/doc/numpy/reference/generated/numpy.random.normal.html\n",
        "# Assign to a variable y the value 1 if that number is between -1 and 1 (mean +- standard deviation), 0 otherwise.\n",
        "# (In python, intersection(AND) is done with the keyword \"and\". To do \"and\" between two numpy vectors: np.bitwise_and)\n",
        "# If I repeat the process 10000 times, how many times does the random number fall in the interval [-1 1]?\n",
        "# Do the exercise using a loop, and then try to solve the problem without one.\n",
        "\n",
        "# TODO\n"
      ],
      "execution_count": null,
      "outputs": []
    },
    {
      "cell_type": "markdown",
      "metadata": {
        "id": "v7vmsHK7fr2S"
      },
      "source": [
        "# Image visualization"
      ]
    },
    {
      "cell_type": "code",
      "metadata": {
        "ExecuteTime": {
          "end_time": "2021-03-09T07:20:36.712890Z",
          "start_time": "2021-03-09T07:20:35.997844Z"
        },
        "id": "ZsgPF_7_NmFf"
      },
      "source": [
        "# 3A\n",
        "\n",
        "# Upload the image \"seattle.png\" do Colab, load it and assign it to the variable I.\n",
        "# https://pillow.readthedocs.io/en/stable/reference/Image.html\n",
        "# Extract the numpy array from the loaded image and display it with the imshow command. Print out its shape.\n",
        "# Print out the minimum and maxium values contained in the matrix.\n",
        "# https://stackoverflow.com/questions/384759/how-to-convert-a-pil-image-into-a-numpy-array/37675266\n",
        "# Diplay the loaded image\n",
        "# https://matplotlib.org/api/_as_gen/matplotlib.pyplot.imshow.html\n",
        "\n",
        "# TODO\n",
        "from PIL import Image\n",
        "import matplotlib.pyplot as plt"
      ],
      "execution_count": null,
      "outputs": []
    },
    {
      "cell_type": "code",
      "metadata": {
        "ExecuteTime": {
          "end_time": "2021-03-09T07:20:36.724876Z",
          "start_time": "2021-03-09T07:20:36.716888Z"
        },
        "id": "ga5wH-3kN0An"
      },
      "source": [
        "# 3B\n",
        "\n",
        "# Using the numpy array from above and the information you printed, try to understand what each element in \n",
        "# the matrix represents. Use that information to perform an \"invertion filter\" on the image, meaning that \n",
        "# you \"switch\" the black and white colors. \n",
        "# Hint: Since the image is in black and white (grayscale), this translatates to simply switchting \n",
        "# the gray level of each pixel based on a maximum value.\n",
        "# Print out the means of the normal image and the inverted image.\n",
        "\n",
        "# TODO"
      ],
      "execution_count": null,
      "outputs": []
    },
    {
      "cell_type": "markdown",
      "source": [
        "Homework: Try to read and study the Python cheatsheet provided in the lab material (you can skip the Pygame part) and also the [Numpy beginners guide](https://numpy.org/devdocs/user/absolute_beginners.html#whats-the-difference-between-a-python-list-and-a-numpy-array), to get a deeper understanding of the language and the library respectively."
      ],
      "metadata": {
        "id": "-3ITa9__3PEK"
      }
    },
    {
      "cell_type": "code",
      "source": [
        ""
      ],
      "metadata": {
        "id": "adqOZG0d4aNA"
      },
      "execution_count": null,
      "outputs": []
    }
  ]
}